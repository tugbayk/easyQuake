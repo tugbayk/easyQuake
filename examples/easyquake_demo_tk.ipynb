{
  "nbformat": 4,
  "nbformat_minor": 0,
  "metadata": {
    "colab": {
      "name": "easyquake_demo.ipynb",
      "provenance": [],
      "include_colab_link": true
    },
    "kernelspec": {
      "name": "python3",
      "display_name": "Python 3"
    },
    "accelerator": "GPU",
    "gpuClass": "standard"
  },
  "cells": [
    {
      "cell_type": "markdown",
      "metadata": {
        "id": "view-in-github",
        "colab_type": "text"
      },
      "source": [
        "<a href=\"https://colab.research.google.com/github/tugbayk/easyQuake/blob/master/examples/easyquake_demo_tk.ipynb\" target=\"_parent\"><img src=\"https://colab.research.google.com/assets/colab-badge.svg\" alt=\"Open In Colab\"/></a>"
      ]
    },
    {
      "cell_type": "code",
      "metadata": {
        "id": "LohMako1d0ve"
      },
      "source": [
        "!pip install easyQuake\n",
        "!pip install obspy\n",
        "!pip install numpy==1.24"
      ],
      "execution_count": null,
      "outputs": []
    },
    {
      "cell_type": "code",
      "metadata": {
        "id": "Rw_1Ix2nsFnO",
        "outputId": "2121cb32-54e6-4618-ac96-d99493f15c4d",
        "colab": {
          "base_uri": "https://localhost:8080/"
        }
      },
      "source": [
        "from easyQuake import download_mseed\n",
        "from easyQuake import daterange\n",
        "from datetime import date\n",
        "from easyQuake import combine_associated\n",
        "from easyQuake import detection_continuous\n",
        "from easyQuake import association_continuous\n",
        "\n",
        "from easyQuake import magnitude_quakeml\n",
        "from easyQuake import simple_cat_df\n",
        "\n",
        "import matplotlib.pyplot as plt\n",
        "maxkm = 300\n",
        "maxdist=300\n",
        "lat_a = 42\n",
        "lat_b = 47.5\n",
        "lon_a = -118\n",
        "lon_b = -111\n",
        "\n",
        "\n",
        "start_date = date(2020, 3, 31)\n",
        "end_date = date(2020, 4, 2)\n",
        "# 2 days around the origin of the 2020 Stanley Idaho earthquake\n",
        "\n",
        "project_code = 'idaho'\n",
        "project_folder = '/content/id'\n",
        "!mkdir /content/id\n",
        "import os\n",
        "print(os.getcwd())\n",
        "%cd /content/id\n",
        "!wget https://wichita.ogs.ou.edu/eq/tutorial/easyquake_tutorial_idaho.zip\n",
        "!unzip easyquake_tutorial_idaho.zip\n"
      ],
      "execution_count": null,
      "outputs": [
        {
          "output_type": "stream",
          "name": "stdout",
          "text": [
            "\n",
            "\n",
            "                         ____              __\n",
            "  ___  ____ ________  __/ __ \\__  ______ _/ /_____\n",
            " / _ \\/ __ `/ ___/ / / / / / / / / / __ `/ //_/ _ \\\n",
            "/  __/ /_/ (__  ) /_/ / /_/ / /_/ / /_/ / ,< /  __/\n",
            "\\___/\\__,_/____/\\__, /\\___\\_\\__,_/\\__,_/_/|_|\\___/\n",
            "               /____/\n",
            "\n",
            "\n",
            "Earthquake detection and location open-source software\n",
            "Jake Walter - Oklahoma Geological Survey\n",
            "http://github.com/jakewalter/easyQuake\n",
            "jwalter@ou.edu\n",
            "\n",
            "\n",
            "/content\n",
            "/content/id\n",
            "--2025-03-25 10:47:26--  https://wichita.ogs.ou.edu/eq/tutorial/easyquake_tutorial_idaho.zip\n",
            "Resolving wichita.ogs.ou.edu (wichita.ogs.ou.edu)... 129.15.14.135\n",
            "Connecting to wichita.ogs.ou.edu (wichita.ogs.ou.edu)|129.15.14.135|:443... connected.\n",
            "HTTP request sent, awaiting response... 200 OK\n",
            "Length: 1404477241 (1.3G) [application/zip]\n",
            "Saving to: ‘easyquake_tutorial_idaho.zip’\n",
            "\n",
            "yquake_tutorial_ida  15%[==>                 ] 211.95M   460KB/s    eta 35m 36s"
          ]
        }
      ]
    },
    {
      "cell_type": "code",
      "metadata": {
        "id": "rOqdmM67nuM_"
      },
      "source": [
        "\n",
        "for single_date in daterange(start_date, end_date):\n",
        "    print(single_date.strftime(\"%Y-%m-%d\"))\n",
        "    dirname = single_date.strftime(\"%Y%m%d\")\n",
        "    #we already downloaded the waveforms for this tutorial so we comment this out\n",
        "    #download_mseed(dirname=dirname, project_folder=project_folder, single_date=single_date, minlat=lat_a, maxlat=lat_b, minlon=lon_a, maxlon=lon_b)\n",
        "    detection_continuous(dirname=dirname, project_folder=project_folder, project_code=project_code, single_date=single_date, machine=True,machine_picker = 'EQTransformer', local=True)\n"
      ],
      "execution_count": null,
      "outputs": []
    },
    {
      "cell_type": "code",
      "source": [
        "for single_date in daterange(start_date, end_date):\n",
        "    print(single_date.strftime(\"%Y-%m-%d\"))\n",
        "    dirname = single_date.strftime(\"%Y%m%d\")\n",
        "    association_continuous(dirname=dirname, project_folder=project_folder, project_code=project_code, maxdist=maxdist, maxkm=maxkm, single_date=single_date, local=True)\n",
        "\n",
        "\n"
      ],
      "metadata": {
        "id": "UuHF9ZHnZNZY"
      },
      "execution_count": null,
      "outputs": []
    },
    {
      "cell_type": "code",
      "source": [
        "cat, dfs = combine_associated(project_folder=project_folder, project_code=project_code)\n",
        "cat = magnitude_quakeml(cat=cat, project_folder=project_folder,plot_event=True)\n",
        "cat.write('catalog_idaho.xml',format='QUAKEML')\n",
        "\n",
        "\n",
        "catdf = simple_cat_df(cat)\n",
        "plt.figure()\n",
        "plt.plot(catdf.origintime,catdf.magnitude,'.')"
      ],
      "metadata": {
        "id": "Dw2wGqhLudEt"
      },
      "execution_count": null,
      "outputs": []
    }
  ]
}